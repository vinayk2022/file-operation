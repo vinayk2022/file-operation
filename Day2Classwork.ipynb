{
 "cells": [
  {
   "cell_type": "code",
   "execution_count": 1,
   "id": "3538f0ef",
   "metadata": {},
   "outputs": [],
   "source": [
    "mkdir new_directory"
   ]
  },
  {
   "cell_type": "code",
   "execution_count": 2,
   "id": "a3bf9cf0",
   "metadata": {},
   "outputs": [
    {
     "name": "stdout",
     "output_type": "stream",
     "text": [
      "C:\\Users\\Vinay Kumar\\geeksterclass\\Module4\\new_directory\n"
     ]
    }
   ],
   "source": [
    "cd new_directory"
   ]
  },
  {
   "cell_type": "code",
   "execution_count": 3,
   "id": "c688bb6f",
   "metadata": {},
   "outputs": [
    {
     "name": "stdout",
     "output_type": "stream",
     "text": [
      " Volume in drive C is SSD (OS)\n",
      " Volume Serial Number is 981C-1E0B\n",
      "\n",
      " Directory of C:\\Users\\Vinay Kumar\\geeksterclass\\Module4\\new_directory\n",
      "\n",
      "08-03-2025  12:43    <DIR>          .\n",
      "08-03-2025  12:43    <DIR>          ..\n",
      "               0 File(s)              0 bytes\n",
      "               2 Dir(s)  173,165,694,976 bytes free\n"
     ]
    }
   ],
   "source": [
    "ls"
   ]
  },
  {
   "cell_type": "code",
   "execution_count": 4,
   "id": "fcd2a4a5",
   "metadata": {},
   "outputs": [
    {
     "ename": "SyntaxError",
     "evalue": "invalid syntax (2952789849.py, line 1)",
     "output_type": "error",
     "traceback": [
      "\u001b[1;36m  Input \u001b[1;32mIn [4]\u001b[1;36m\u001b[0m\n\u001b[1;33m    vim file.txt\u001b[0m\n\u001b[1;37m        ^\u001b[0m\n\u001b[1;31mSyntaxError\u001b[0m\u001b[1;31m:\u001b[0m invalid syntax\n"
     ]
    }
   ],
   "source": [
    "vim file.txt"
   ]
  },
  {
   "cell_type": "code",
   "execution_count": 5,
   "id": "843a5e5c",
   "metadata": {},
   "outputs": [],
   "source": [
    "import os"
   ]
  },
  {
   "cell_type": "code",
   "execution_count": 9,
   "id": "f28ee891",
   "metadata": {},
   "outputs": [
    {
     "ename": "NameError",
     "evalue": "name 'new_directory' is not defined",
     "output_type": "error",
     "traceback": [
      "\u001b[1;31m---------------------------------------------------------------------------\u001b[0m",
      "\u001b[1;31mNameError\u001b[0m                                 Traceback (most recent call last)",
      "Input \u001b[1;32mIn [9]\u001b[0m, in \u001b[0;36m<cell line: 1>\u001b[1;34m()\u001b[0m\n\u001b[1;32m----> 1\u001b[0m os\u001b[38;5;241m.\u001b[39mmakedirs(\u001b[43mnew_directory\u001b[49m, exist_ok\u001b[38;5;241m=\u001b[39m\u001b[38;5;28;01mFalse\u001b[39;00m)\n",
      "\u001b[1;31mNameError\u001b[0m: name 'new_directory' is not defined"
     ]
    }
   ],
   "source": [
    "os.makedirs(new_directory, exist_ok=False)"
   ]
  },
  {
   "cell_type": "code",
   "execution_count": 7,
   "id": "32dd5902",
   "metadata": {},
   "outputs": [
    {
     "data": {
      "text/plain": [
       "'C:\\\\Users\\\\Vinay Kumar\\\\geeksterclass\\\\Module4\\\\new_directory'"
      ]
     },
     "execution_count": 7,
     "metadata": {},
     "output_type": "execute_result"
    }
   ],
   "source": [
    "pwd"
   ]
  },
  {
   "cell_type": "code",
   "execution_count": 8,
   "id": "22f34f9a",
   "metadata": {},
   "outputs": [
    {
     "ename": "NameError",
     "evalue": "name 'new_directory' is not defined",
     "output_type": "error",
     "traceback": [
      "\u001b[1;31m---------------------------------------------------------------------------\u001b[0m",
      "\u001b[1;31mNameError\u001b[0m                                 Traceback (most recent call last)",
      "Input \u001b[1;32mIn [8]\u001b[0m, in \u001b[0;36m<cell line: 1>\u001b[1;34m()\u001b[0m\n\u001b[1;32m----> 1\u001b[0m file_path \u001b[38;5;241m=\u001b[39m os\u001b[38;5;241m.\u001b[39mpath\u001b[38;5;241m.\u001b[39mjoin(\u001b[43mnew_directory\u001b[49m, \u001b[38;5;124m'\u001b[39m\u001b[38;5;124mnew_file.txt\u001b[39m\u001b[38;5;124m'\u001b[39m)\n",
      "\u001b[1;31mNameError\u001b[0m: name 'new_directory' is not defined"
     ]
    }
   ],
   "source": [
    "file_path = os.path.join(new_directory, 'new_file.txt')"
   ]
  },
  {
   "cell_type": "code",
   "execution_count": 10,
   "id": "9cc5ae33",
   "metadata": {},
   "outputs": [],
   "source": [
    "new_directory = r'C:/Users/Vinay Kumar/geeksterclass/Module4'"
   ]
  },
  {
   "cell_type": "code",
   "execution_count": 12,
   "id": "29182941",
   "metadata": {},
   "outputs": [],
   "source": [
    "os.makedirs(new_directory, exist_ok=True)"
   ]
  },
  {
   "cell_type": "code",
   "execution_count": 14,
   "id": "5189f048",
   "metadata": {},
   "outputs": [],
   "source": [
    "file_path = os.path.join(new_directory, 'new_file.txt')"
   ]
  },
  {
   "cell_type": "code",
   "execution_count": 15,
   "id": "8cc52848",
   "metadata": {},
   "outputs": [
    {
     "ename": "FileNotFoundError",
     "evalue": "[Errno 2] No such file or directory: 'C:/Users/Vinay Kumar/geeksterclass/Module4\\\\new_file.txt'",
     "output_type": "error",
     "traceback": [
      "\u001b[1;31m---------------------------------------------------------------------------\u001b[0m",
      "\u001b[1;31mFileNotFoundError\u001b[0m                         Traceback (most recent call last)",
      "Input \u001b[1;32mIn [15]\u001b[0m, in \u001b[0;36m<cell line: 1>\u001b[1;34m()\u001b[0m\n\u001b[1;32m----> 1\u001b[0m \u001b[38;5;28;01mwith\u001b[39;00m \u001b[38;5;28;43mopen\u001b[39;49m\u001b[43m(\u001b[49m\u001b[43mfile_path\u001b[49m\u001b[43m,\u001b[49m\u001b[43m \u001b[49m\u001b[38;5;124;43m'\u001b[39;49m\u001b[38;5;124;43mr\u001b[39;49m\u001b[38;5;124;43m'\u001b[39;49m\u001b[43m)\u001b[49m \u001b[38;5;28;01mas\u001b[39;00m file:\n\u001b[0;32m      2\u001b[0m     file\u001b[38;5;241m.\u001b[39mread()\n",
      "\u001b[1;31mFileNotFoundError\u001b[0m: [Errno 2] No such file or directory: 'C:/Users/Vinay Kumar/geeksterclass/Module4\\\\new_file.txt'"
     ]
    }
   ],
   "source": [
    "with open(file_path, 'r') as file:\n",
    "    file.read()"
   ]
  },
  {
   "cell_type": "code",
   "execution_count": 16,
   "id": "decf5897",
   "metadata": {},
   "outputs": [],
   "source": [
    "with open(file_path, 'w') as file:\n",
    "    file.write('Hello, this is a sample content written to the text file.')"
   ]
  },
  {
   "cell_type": "code",
   "execution_count": 18,
   "id": "d0233d13",
   "metadata": {},
   "outputs": [
    {
     "name": "stdout",
     "output_type": "stream",
     "text": [
      "File created successfully at: C:/Users/Vinay Kumar/geeksterclass/Module4\\new_file.txt\n"
     ]
    }
   ],
   "source": [
    "print(f'File created successfully at: {file_path}')"
   ]
  },
  {
   "cell_type": "code",
   "execution_count": 19,
   "id": "6601e3e6",
   "metadata": {},
   "outputs": [
    {
     "ename": "FileNotFoundError",
     "evalue": "[Errno 2] No such file or directory: 'new_file.txt'",
     "output_type": "error",
     "traceback": [
      "\u001b[1;31m---------------------------------------------------------------------------\u001b[0m",
      "\u001b[1;31mFileNotFoundError\u001b[0m                         Traceback (most recent call last)",
      "Input \u001b[1;32mIn [19]\u001b[0m, in \u001b[0;36m<cell line: 1>\u001b[1;34m()\u001b[0m\n\u001b[1;32m----> 1\u001b[0m file \u001b[38;5;241m=\u001b[39m\u001b[38;5;28;43mopen\u001b[39;49m\u001b[43m(\u001b[49m\u001b[38;5;124;43m'\u001b[39;49m\u001b[38;5;124;43mnew_file.txt\u001b[39;49m\u001b[38;5;124;43m'\u001b[39;49m\u001b[43m,\u001b[49m\u001b[38;5;124;43m'\u001b[39;49m\u001b[38;5;124;43mr\u001b[39;49m\u001b[38;5;124;43m'\u001b[39;49m\u001b[43m)\u001b[49m\n",
      "\u001b[1;31mFileNotFoundError\u001b[0m: [Errno 2] No such file or directory: 'new_file.txt'"
     ]
    }
   ],
   "source": [
    "file =open('new_file.txt','r')"
   ]
  },
  {
   "cell_type": "code",
   "execution_count": 1,
   "id": "3998f468",
   "metadata": {},
   "outputs": [
    {
     "name": "stdout",
     "output_type": "stream",
     "text": [
      " Volume in drive C is SSD (OS)\n",
      " Volume Serial Number is 981C-1E0B\n",
      "\n",
      " Directory of C:\\Users\\Vinay Kumar\\geeksterclass\\Module4\n",
      "\n",
      "08-03-2025  20:11    <DIR>          .\n",
      "08-03-2025  20:11    <DIR>          ..\n",
      "08-03-2025  20:11    <DIR>          .ipynb_checkpoints\n",
      "08-03-2025  19:42           397,188 active Indian military aircraft.ipynb\n",
      "08-03-2025  12:17         4,174,434 Classwork Data Scrapping.ipynb\n",
      "08-03-2025  14:10             8,365 Day 2 Classwork.ipynb\n",
      "28-02-2025  23:06                 0 example.txt\n",
      "28-02-2025  22:34            12,015 File System Operations In Python.ipynb\n",
      "08-03-2025  11:18               696 imdb_movies_title.csv\n",
      "08-03-2025  12:17               690 imdb_movies_titles.csv\n",
      "28-02-2025  19:45             3,696 Introduction.ipynb\n",
      "28-02-2025  19:45               109 myModule.py\n",
      "08-03-2025  12:43    <DIR>          new_directory\n",
      "08-03-2025  14:06                57 new_file.txt\n",
      "08-03-2025  12:17                33 README.md\n",
      "08-03-2025  11:01               806 states_population.csv\n",
      "08-03-2025  11:03               806 states_population_DataScrapping.csv\n",
      "03-03-2025  19:47             1,030 Untitled.ipynb\n",
      "05-03-2025  19:54             1,601 Untitled1.ipynb\n",
      "08-03-2025  12:17               806 US_states_population_DataScrapping.csv\n",
      "28-02-2025  21:16         4,027,566 Web Scraping.ipynb\n",
      "28-02-2025  23:09             6,109 WebScraping.ipynb\n",
      "              18 File(s)      8,636,007 bytes\n",
      "               4 Dir(s)  171,660,365,824 bytes free\n"
     ]
    }
   ],
   "source": [
    "ls"
   ]
  },
  {
   "cell_type": "code",
   "execution_count": 2,
   "id": "50fd91cf",
   "metadata": {},
   "outputs": [],
   "source": [
    "file1 =open('new_file.txt','r')"
   ]
  },
  {
   "cell_type": "code",
   "execution_count": 3,
   "id": "49fdb177",
   "metadata": {},
   "outputs": [],
   "source": [
    "content1 =file1.read()"
   ]
  },
  {
   "cell_type": "code",
   "execution_count": 4,
   "id": "b06ddb9f",
   "metadata": {},
   "outputs": [
    {
     "name": "stdout",
     "output_type": "stream",
     "text": [
      "Hello, this is a sample content written to the text file.\n"
     ]
    }
   ],
   "source": [
    "print(content1)"
   ]
  },
  {
   "cell_type": "code",
   "execution_count": 5,
   "id": "cf4a189c",
   "metadata": {},
   "outputs": [],
   "source": [
    "import os"
   ]
  },
  {
   "cell_type": "code",
   "execution_count": 6,
   "id": "5e1db46b",
   "metadata": {},
   "outputs": [
    {
     "ename": "PermissionError",
     "evalue": "[WinError 32] The process cannot access the file because it is being used by another process: 'new_file.txt' -> 'rename_file.txt'",
     "output_type": "error",
     "traceback": [
      "\u001b[1;31m---------------------------------------------------------------------------\u001b[0m",
      "\u001b[1;31mPermissionError\u001b[0m                           Traceback (most recent call last)",
      "Input \u001b[1;32mIn [6]\u001b[0m, in \u001b[0;36m<cell line: 1>\u001b[1;34m()\u001b[0m\n\u001b[1;32m----> 1\u001b[0m \u001b[43mos\u001b[49m\u001b[38;5;241;43m.\u001b[39;49m\u001b[43mrename\u001b[49m\u001b[43m(\u001b[49m\u001b[38;5;124;43m\"\u001b[39;49m\u001b[38;5;124;43mnew_file.txt\u001b[39;49m\u001b[38;5;124;43m\"\u001b[39;49m\u001b[43m,\u001b[49m\u001b[38;5;124;43m\"\u001b[39;49m\u001b[38;5;124;43mrename_file.txt\u001b[39;49m\u001b[38;5;124;43m\"\u001b[39;49m\u001b[43m)\u001b[49m\n",
      "\u001b[1;31mPermissionError\u001b[0m: [WinError 32] The process cannot access the file because it is being used by another process: 'new_file.txt' -> 'rename_file.txt'"
     ]
    }
   ],
   "source": [
    "os.rename(\"new_file.txt\",\"rename_file.txt\")"
   ]
  },
  {
   "cell_type": "code",
   "execution_count": 7,
   "id": "aa3c4d8d",
   "metadata": {},
   "outputs": [],
   "source": [
    "file1.close()"
   ]
  },
  {
   "cell_type": "code",
   "execution_count": 8,
   "id": "bec3aad2",
   "metadata": {},
   "outputs": [],
   "source": [
    "os.rename(\"new_file.txt\",\"rename_file.txt\")"
   ]
  },
  {
   "cell_type": "code",
   "execution_count": 9,
   "id": "f39b112b",
   "metadata": {},
   "outputs": [
    {
     "name": "stdout",
     "output_type": "stream",
     "text": [
      " Volume in drive C is SSD (OS)\n",
      " Volume Serial Number is 981C-1E0B\n",
      "\n",
      " Directory of C:\\Users\\Vinay Kumar\\geeksterclass\\Module4\n",
      "\n",
      "09-03-2025  20:16    <DIR>          .\n",
      "09-03-2025  20:16    <DIR>          ..\n",
      "08-03-2025  20:11    <DIR>          .ipynb_checkpoints\n",
      "08-03-2025  19:42           397,188 active Indian military aircraft.ipynb\n",
      "08-03-2025  12:17         4,174,434 Classwork Data Scrapping.ipynb\n",
      "09-03-2025  20:13            12,522 Day 2 Classwork.ipynb\n",
      "28-02-2025  23:06                 0 example.txt\n",
      "28-02-2025  22:34            12,015 File System Operations In Python.ipynb\n",
      "08-03-2025  11:18               696 imdb_movies_title.csv\n",
      "08-03-2025  12:17               690 imdb_movies_titles.csv\n",
      "28-02-2025  19:45             3,696 Introduction.ipynb\n",
      "28-02-2025  19:45               109 myModule.py\n",
      "08-03-2025  12:43    <DIR>          new_directory\n",
      "08-03-2025  12:17                33 README.md\n",
      "08-03-2025  14:06                57 rename_file.txt\n",
      "08-03-2025  11:01               806 states_population.csv\n",
      "08-03-2025  11:03               806 states_population_DataScrapping.csv\n",
      "03-03-2025  19:47             1,030 Untitled.ipynb\n",
      "05-03-2025  19:54             1,601 Untitled1.ipynb\n",
      "08-03-2025  12:17               806 US_states_population_DataScrapping.csv\n",
      "28-02-2025  21:16         4,027,566 Web Scraping.ipynb\n",
      "28-02-2025  23:09             6,109 WebScraping.ipynb\n",
      "              18 File(s)      8,640,164 bytes\n",
      "               4 Dir(s)  171,648,819,200 bytes free\n"
     ]
    }
   ],
   "source": [
    "ls"
   ]
  },
  {
   "cell_type": "code",
   "execution_count": 10,
   "id": "ff8b0b0d",
   "metadata": {},
   "outputs": [
    {
     "name": "stdout",
     "output_type": "stream",
     "text": [
      "Directory 'new_directory' deleted successfully!\n"
     ]
    }
   ],
   "source": [
    "import shutil\n",
    "directory = \"new_directory\"\n",
    "if os.path.exists(directory):\n",
    "    shutil.rmtree(directory)\n",
    "    print(f\"Directory '{directory}' deleted successfully!\")\n",
    "else:\n",
    "    print(\"Error: Directory does not exist.\")"
   ]
  },
  {
   "cell_type": "code",
   "execution_count": 11,
   "id": "80e3917d",
   "metadata": {},
   "outputs": [
    {
     "name": "stdout",
     "output_type": "stream",
     "text": [
      " Volume in drive C is SSD (OS)\n",
      " Volume Serial Number is 981C-1E0B\n",
      "\n",
      " Directory of C:\\Users\\Vinay Kumar\\geeksterclass\\Module4\n",
      "\n",
      "09-03-2025  20:30    <DIR>          .\n",
      "09-03-2025  20:30    <DIR>          ..\n",
      "08-03-2025  20:11    <DIR>          .ipynb_checkpoints\n",
      "08-03-2025  19:42           397,188 active Indian military aircraft.ipynb\n",
      "08-03-2025  12:17         4,174,434 Classwork Data Scrapping.ipynb\n",
      "09-03-2025  20:17            14,888 Day 2 Classwork.ipynb\n",
      "28-02-2025  23:06                 0 example.txt\n",
      "28-02-2025  22:34            12,015 File System Operations In Python.ipynb\n",
      "08-03-2025  11:18               696 imdb_movies_title.csv\n",
      "08-03-2025  12:17               690 imdb_movies_titles.csv\n",
      "28-02-2025  19:45             3,696 Introduction.ipynb\n",
      "28-02-2025  19:45               109 myModule.py\n",
      "08-03-2025  12:17                33 README.md\n",
      "08-03-2025  14:06                57 rename_file.txt\n",
      "08-03-2025  11:01               806 states_population.csv\n",
      "08-03-2025  11:03               806 states_population_DataScrapping.csv\n",
      "03-03-2025  19:47             1,030 Untitled.ipynb\n",
      "05-03-2025  19:54             1,601 Untitled1.ipynb\n",
      "08-03-2025  12:17               806 US_states_population_DataScrapping.csv\n",
      "28-02-2025  21:16         4,027,566 Web Scraping.ipynb\n",
      "28-02-2025  23:09             6,109 WebScraping.ipynb\n",
      "              18 File(s)      8,642,530 bytes\n",
      "               3 Dir(s)  171,650,166,784 bytes free\n"
     ]
    }
   ],
   "source": [
    "ls"
   ]
  },
  {
   "cell_type": "code",
   "execution_count": null,
   "id": "70061143",
   "metadata": {},
   "outputs": [],
   "source": []
  }
 ],
 "metadata": {
  "kernelspec": {
   "display_name": "Python 3 (ipykernel)",
   "language": "python",
   "name": "python3"
  },
  "language_info": {
   "codemirror_mode": {
    "name": "ipython",
    "version": 3
   },
   "file_extension": ".py",
   "mimetype": "text/x-python",
   "name": "python",
   "nbconvert_exporter": "python",
   "pygments_lexer": "ipython3",
   "version": "3.9.12"
  }
 },
 "nbformat": 4,
 "nbformat_minor": 5
}
